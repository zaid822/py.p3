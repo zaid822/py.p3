{
 "cells": [
  {
   "cell_type": "code",
   "execution_count": 1,
   "metadata": {},
   "outputs": [
    {
     "name": "stdout",
     "output_type": "stream",
     "text": [
      "hello world\n"
     ]
    }
   ],
   "source": [
    "print (\"hello world\")"
   ]
  },
  {
   "cell_type": "code",
   "execution_count": 5,
   "metadata": {},
   "outputs": [
    {
     "name": "stdout",
     "output_type": "stream",
     "text": [
      "\n",
      "PIAIC ISLAMABAD BATCH3\n",
      "name:zaid\n",
      "father_name:sohail\n",
      "university:bahria university\n",
      "\n"
     ]
    }
   ],
   "source": [
    "name=\"zaid\"\n",
    "father_name=\"sohail\"\n",
    "university=\"bahria university\"\n",
    "message=\"\"\"\n",
    "PIAIC ISLAMABAD BATCH3\n",
    "name:{}\n",
    "father_name:{}\n",
    "university:{}\n",
    "\"\"\".format(name,father_name,university)\n",
    "print(message)"
   ]
  },
  {
   "cell_type": "code",
   "execution_count": 6,
   "metadata": {},
   "outputs": [
    {
     "name": "stdout",
     "output_type": "stream",
     "text": [
      "750\n",
      "225\n",
      "25000\n",
      "5.0\n"
     ]
    }
   ],
   "source": [
    "weight=250\n",
    "print(weight+500)\n",
    "print(weight-25)\n",
    "print(weight*100)\n",
    "print(weight/50)"
   ]
  },
  {
   "cell_type": "code",
   "execution_count": null,
   "metadata": {},
   "outputs": [],
   "source": []
  }
 ],
 "metadata": {
  "kernelspec": {
   "display_name": "Python 3",
   "language": "python",
   "name": "python3"
  },
  "language_info": {
   "codemirror_mode": {
    "name": "ipython",
    "version": 3
   },
   "file_extension": ".py",
   "mimetype": "text/x-python",
   "name": "python",
   "nbconvert_exporter": "python",
   "pygments_lexer": "ipython3",
   "version": "3.7.4"
  }
 },
 "nbformat": 4,
 "nbformat_minor": 2
}
